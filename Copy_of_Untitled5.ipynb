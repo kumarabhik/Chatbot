{
  "nbformat": 4,
  "nbformat_minor": 0,
  "metadata": {
    "colab": {
      "provenance": []
    },
    "kernelspec": {
      "name": "python3",
      "display_name": "Python 3"
    },
    "language_info": {
      "name": "python"
    }
  },
  "cells": [
    {
      "cell_type": "code",
      "source": [
        "import random\n",
        "def unknown():\n",
        "    respo = [\"Could you please re-phrase that? \",\n",
        "                \"...\",\n",
        "                \"Sounds about right.\",\n",
        "                \"What does that mean?\"][\n",
        "        random.randrange(4)]\n",
        "    return respo"
      ],
      "metadata": {
        "id": "M3ua6BQEN7K4"
      },
      "execution_count": null,
      "outputs": []
    },
    {
      "cell_type": "code",
      "source": [
        "import re\n",
        "\n",
        "\n",
        "def msg_prob(user_msg, reco_wrds, single_respo=False, reqd_wrds=[]):\n",
        "    msg_occur = 0\n",
        "    has_reqd_wrds = True\n",
        "\n",
        "    # Counts how many words are present in each predefined message\n",
        "    for word in user_msg:\n",
        "        if word in reco_wrds:\n",
        "            msg_occur += 1\n",
        "\n",
        "    # Calculates the percent of recognised words in a user message\n",
        "    prcnt = float(msg_occur) / float(len(reco_wrds))\n",
        "\n",
        "    # Checks that the required words are in the string\n",
        "    for word in reqd_wrds:\n",
        "        if word not in user_msg:\n",
        "            has_reqd_wrds = False\n",
        "            break\n",
        "\n",
        "    # Must either have the required words, or be a single response\n",
        "    if has_reqd_wrds or single_respo:\n",
        "        return int(prcnt * 100)\n",
        "    else:\n",
        "        return 0\n",
        "\n",
        "\n",
        "def check_all_messages(message):\n",
        "    highest_prob_list = {}\n",
        "\n",
        "    # Simplifies response creation / adds it to the dict\n",
        "    def response(bot_respo, list_of_wrds, single_respo=False, reqd_wrds=[]):\n",
        "        nonlocal highest_prob_list\n",
        "        highest_prob_list[bot_respo] = msg_prob(message, list_of_wrds, single_respo, reqd_wrds)\n",
        "\n",
        "    # Responses -------------------------------------------------------------------------------------------------------\n",
        "    response('Hello!', ['hello', 'hi', 'hey', 'sup', 'heyo'], single_respo=True)\n",
        "    response('See you!', ['bye', 'goodbye'], single_respo=True)\n",
        "    response('I\\'m doing fine baka i am a bot unlike you, and you?', ['how', 'are', 'you', 'doing'], reqd_wrds=['how'])\n",
        "    response('You\\'re welcome!', ['thank', 'thanks'], single_respo=True)\n",
        "    response('I am a girl if u are a male and male if u are girl', ['gender', 'sex', 'male', 'female'], single_respo=True)\n",
        "\n",
        "    # Longer responses\n",
        "    response(\"If I were you, I would go to the internet and type exactly what you wrote there!\", ['give', 'advice'], reqd_wrds=['advice'])\n",
        "    response(\"I don't like eating anything because I'm a bot obviously!\", ['what', 'you', 'eat'], reqd_wrds=['you', 'eat'])\n",
        "\n",
        "    best_match = max(highest_prob_list, key=highest_prob_list.get)\n",
        "    #print(highest_prob_list)\n",
        "    # print(f'Best match = {best_match} | Score: {highest_prob_list[best_match]}')\n",
        "\n",
        "    return unknown() if highest_prob_list[best_match] < 1 else best_match\n",
        "\n",
        "\n",
        "# Used to get the response\n",
        "def get_response(user_input):\n",
        "    split_message = re.split(r'\\s+|[,;?!.-]\\s*', user_input.lower())\n",
        "    response = check_all_messages(split_message)\n",
        "    return response\n",
        "\n",
        "\n",
        "# Testing the response system\n",
        "while True:\n",
        "    out=get_response(input('You: '))\n",
        "    print('Bot: ' + out )\n",
        "    if out=='See you!':\n",
        "      break"
      ],
      "metadata": {
        "colab": {
          "base_uri": "https://localhost:8080/"
        },
        "id": "Nubwi74Z7UMy",
        "outputId": "73924614-0590-45c2-dac8-810aee1fe560"
      },
      "execution_count": null,
      "outputs": [
        {
          "output_type": "stream",
          "name": "stdout",
          "text": [
            "You: hello\n",
            "Bot: Hello!\n"
          ]
        }
      ]
    },
    {
      "cell_type": "code",
      "source": [],
      "metadata": {
        "id": "rG62-W8z7_F8"
      },
      "execution_count": null,
      "outputs": []
    }
  ]
}